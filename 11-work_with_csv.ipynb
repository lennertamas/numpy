{
 "cells": [
  {
   "cell_type": "markdown",
   "metadata": {},
   "source": [
    "### Working with Data:\n",
    "- Load data from a CSV file into a NumPy array.\n",
    "- Extract specific columns or rows from the data.\n"
   ]
  },
  {
   "cell_type": "code",
   "execution_count": 2,
   "metadata": {},
   "outputs": [],
   "source": [
    "import numpy as np"
   ]
  },
  {
   "cell_type": "code",
   "execution_count": 3,
   "metadata": {},
   "outputs": [
    {
     "name": "stdout",
     "output_type": "stream",
     "text": [
      "Loaded data array:\n",
      " [[1. 2. 3.]\n",
      " [4. 5. 6.]\n",
      " [7. 8. 9.]]\n"
     ]
    }
   ],
   "source": [
    "# Load data from CSV file into a NumPy array\n",
    "file_path = \"data.csv\"\n",
    "data_array = np.genfromtxt(file_path, delimiter=',')\n",
    "\n",
    "print(\"Loaded data array:\\n\", data_array)"
   ]
  },
  {
   "cell_type": "markdown",
   "metadata": {},
   "source": [
    "You can use NumPy's array indexing to extract specific columns or rows from a data array. Here are examples of how to do that:\n",
    "\n",
    "Let's assume you have the following data in a NumPy array:\n",
    "\n",
    "```python\n",
    "import numpy as np\n",
    "\n",
    "data_array = np.array([[1, 2, 3],\n",
    "                       [4, 5, 6],\n",
    "                       [7, 8, 9]])\n",
    "```\n",
    "\n",
    "**Extract Specific Columns:**\n",
    "\n",
    "To extract specific columns, you can use array indexing with the `[:, columns]` syntax. For example, to extract the second column:\n",
    "\n",
    "```python\n",
    "second_column = data_array[:, 1]\n",
    "print(\"Second column:\", second_column)\n",
    "```\n",
    "\n",
    "This will output:\n",
    "\n",
    "```\n",
    "Second column: [2 5 8]\n",
    "```\n",
    "\n",
    "**Extract Specific Rows:**\n",
    "\n",
    "To extract specific rows, you can use array indexing with the `[rows, :]` syntax. For example, to extract the first and third rows:\n",
    "\n",
    "```python\n",
    "selected_rows = data_array[[0, 2], :]\n",
    "print(\"Selected rows:\\n\", selected_rows)\n",
    "```\n",
    "\n",
    "This will output:\n",
    "\n",
    "```\n",
    "Selected rows:\n",
    " [[1 2 3]\n",
    " [7 8 9]]\n",
    "```\n",
    "\n",
    "**Extract Specific Rows and Columns:**\n",
    "\n",
    "You can also use both row and column indexing to extract specific submatrices. For example, to extract a submatrix consisting of the first and third rows and the second column:\n",
    "\n",
    "```python\n",
    "submatrix = data_array[[0, 2], 1]\n",
    "print(\"Submatrix:\\n\", submatrix)\n",
    "```\n",
    "\n",
    "This will output:\n",
    "\n",
    "```\n",
    "Submatrix:\n",
    " [2 8]\n",
    "```\n",
    "\n",
    "By using these indexing techniques, you can easily extract specific columns, rows, or submatrices from your data array. Remember that indexing is zero-based in Python and NumPy, so the first element is at index 0."
   ]
  }
 ],
 "metadata": {
  "kernelspec": {
   "display_name": "base",
   "language": "python",
   "name": "python3"
  },
  "language_info": {
   "codemirror_mode": {
    "name": "ipython",
    "version": 3
   },
   "file_extension": ".py",
   "mimetype": "text/x-python",
   "name": "python",
   "nbconvert_exporter": "python",
   "pygments_lexer": "ipython3",
   "version": "3.9.16"
  },
  "orig_nbformat": 4
 },
 "nbformat": 4,
 "nbformat_minor": 2
}
