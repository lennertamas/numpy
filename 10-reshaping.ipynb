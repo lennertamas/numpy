{
 "cells": [
  {
   "cell_type": "markdown",
   "metadata": {},
   "source": [
    "### Reshaping and Resizing:\n",
    "- Flatten a multi-dimensional array using .flatten() or .ravel().\n",
    "- Change the shape of an array using np.reshape().\n"
   ]
  },
  {
   "cell_type": "code",
   "execution_count": 5,
   "metadata": {},
   "outputs": [],
   "source": [
    "import numpy as np"
   ]
  },
  {
   "cell_type": "code",
   "execution_count": 6,
   "metadata": {},
   "outputs": [
    {
     "name": "stdout",
     "output_type": "stream",
     "text": [
      "Original array:\n",
      " [[1 2 3]\n",
      " [4 5 6]]\n",
      "Flattened array using .flatten():\n",
      " [1 2 3 4 5 6]\n",
      "Flattened array using .ravel():\n",
      " [1 2 3 4 5 6]\n"
     ]
    }
   ],
   "source": [
    "# Creating a 2D array\n",
    "multi_dim_array = np.array([[1, 2, 3],\n",
    "                            [4, 5, 6]])\n",
    "\n",
    "# Using .flatten() to flatten the array\n",
    "flattened_array1 = multi_dim_array.flatten()\n",
    "\n",
    "# Using .ravel() to flatten the array\n",
    "flattened_array2 = multi_dim_array.ravel()\n",
    "\n",
    "print(\"Original array:\\n\", multi_dim_array)\n",
    "print(\"Flattened array using .flatten():\\n\", flattened_array1)\n",
    "print(\"Flattened array using .ravel():\\n\", flattened_array2)"
   ]
  },
  {
   "cell_type": "markdown",
   "metadata": {},
   "source": [
    "Both `.flatten()` and `.ravel()` will return a flattened copy of the original array. However, there's a subtle difference between them:\n",
    "\n",
    "`.flatten()`: This method returns a new flattened array, making a deep copy of the data. Any changes you make to the flattened array will not affect the original array.\n",
    "`.ravel()`: This method also returns a flattened array, but it might return a view of the original data if possible. If a view is returned, changes you make to the flattened array will affect the original array as well."
   ]
  },
  {
   "cell_type": "code",
   "execution_count": 14,
   "metadata": {},
   "outputs": [
    {
     "name": "stdout",
     "output_type": "stream",
     "text": [
      "[[[[[1 2 3 4 5 6]]]]]\n",
      "Original array:\n",
      " [1 2 3 4 5 6]\n",
      "Reshaped array:\n",
      " [[1 2 3]\n",
      " [4 5 6]]\n",
      "Reshaped array:\n",
      " [[1 2]\n",
      " [3 4]\n",
      " [5 6]]\n"
     ]
    }
   ],
   "source": [
    "# RESHAPE\n",
    "\n",
    "# Creating a 1D array\n",
    "array = np.array([1, 2, 3, 4, 5, 6])\n",
    "array2 = np.array([1, 2, 3, 4, 5, 6], ndmin=5)\n",
    "print (array2)\n",
    "\n",
    "# Reshaping the array to a 2D array with 2 rows and 3 columns\n",
    "reshaped_array = np.reshape(array, (2, 3))\n",
    "reshaped_array2 = np.reshape(array, (-1, 2))\n",
    "\n",
    "\n",
    "\n",
    "print(\"Original array:\\n\", array)\n",
    "print(\"Reshaped array:\\n\", reshaped_array)\n",
    "print(\"Reshaped array:\\n\", reshaped_array2)"
   ]
  },
  {
   "cell_type": "markdown",
   "metadata": {},
   "source": [
    "It's important to note that the total number of elements in the original array must match the total number of elements in the reshaped array. If you're unsure about the shape of one of the dimensions and want to automatically infer it based on the other dimension, you can use -1 as a placeholder. NumPy will calculate the appropriate value for the dimension marked as -1."
   ]
  },
  {
   "cell_type": "code",
   "execution_count": 4,
   "metadata": {},
   "outputs": [
    {
     "name": "stdout",
     "output_type": "stream",
     "text": [
      "Original array:\n",
      " [1 2 3 4 5 6]\n",
      "Reshaped array:\n",
      " [[1 2]\n",
      " [3 4]\n",
      " [5 6]]\n"
     ]
    }
   ],
   "source": [
    "# Creating a 1D array\n",
    "array = np.array([1, 2, 3, 4, 5, 6])\n",
    "\n",
    "# Reshaping the array to a 2D array with an unknown number of rows and 2 columns\n",
    "reshaped_array = np.reshape(array, (-1, 2))\n",
    "\n",
    "print(\"Original array:\\n\", array)\n",
    "print(\"Reshaped array:\\n\", reshaped_array)"
   ]
  }
 ],
 "metadata": {
  "kernelspec": {
   "display_name": "base",
   "language": "python",
   "name": "python3"
  },
  "language_info": {
   "codemirror_mode": {
    "name": "ipython",
    "version": 3
   },
   "file_extension": ".py",
   "mimetype": "text/x-python",
   "name": "python",
   "nbconvert_exporter": "python",
   "pygments_lexer": "ipython3",
   "version": "3.9.16"
  },
  "orig_nbformat": 4
 },
 "nbformat": 4,
 "nbformat_minor": 2
}
