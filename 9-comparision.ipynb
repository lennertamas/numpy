{
 "cells": [
  {
   "cell_type": "markdown",
   "metadata": {},
   "source": [
    "### Array Comparison and Boolean Logic:\n",
    "- Perform element-wise comparisons between arrays using operators like ==, !=, <, >, etc.\n",
    "- Use logical operations like np.logical_and() and np.logical_or().\n"
   ]
  },
  {
   "cell_type": "code",
   "execution_count": 7,
   "metadata": {},
   "outputs": [
    {
     "name": "stdout",
     "output_type": "stream",
     "text": [
      "int64\n",
      "Array 1: [1 2 3 4 5]\n",
      "Array 2: [3 2 1 5 4]\n",
      "Equal: [False  True False False False]\n",
      "Not Equal: [ True False  True  True  True]\n",
      "Less Than: [ True False False  True False]\n",
      "Greater Than: [False False  True False  True]\n",
      "Less Than or Equal: [ True  True False  True False]\n",
      "Greater Than or Equal: [False  True  True False  True]\n"
     ]
    }
   ],
   "source": [
    "import numpy as np\n",
    "\n",
    "# Creating example arrays\n",
    "array1 = np.array([1, 2, 3, 4, 5])\n",
    "array2 = np.array([3, 2, 1, 5, 4])\n",
    "\n",
    "\n",
    "# Element-wise comparison using operators\n",
    "equal = array1 == array2\n",
    "not_equal = array1 != array2\n",
    "less_than = array1 < array2\n",
    "greater_than = array1 > array2\n",
    "less_than_equal = array1 <= array2\n",
    "greater_than_equal = array1 >= array2\n",
    "\n",
    "print(\"Array 1:\", array1)\n",
    "print(\"Array 2:\", array2)\n",
    "print(\"Equal:\", equal)\n",
    "print(\"Not Equal:\", not_equal)\n",
    "print(\"Less Than:\", less_than)\n",
    "print(\"Greater Than:\", greater_than)\n",
    "print(\"Less Than or Equal:\", less_than_equal)\n",
    "print(\"Greater Than or Equal:\", greater_than_equal)"
   ]
  },
  {
   "cell_type": "markdown",
   "metadata": {},
   "source": [
    "Arrays are comapared should have compatible shapes, or at least one of them should be broadcastable to match the other. The result of the comparison will be a Boolean array with the same shape as the input arrays"
   ]
  },
  {
   "cell_type": "code",
   "execution_count": 3,
   "metadata": {},
   "outputs": [
    {
     "name": "stdout",
     "output_type": "stream",
     "text": [
      "Array 1: [ True False  True False]\n",
      "Array 2: [False  True  True False]\n",
      "Logical AND result: [False False  True False]\n",
      "Logical OR result: [ True  True  True False]\n"
     ]
    }
   ],
   "source": [
    "# Creating example arrays\n",
    "array1 = np.array([True, False, True, False])\n",
    "array2 = np.array([False, True, True, False])\n",
    "\n",
    "# Element-wise logical AND using np.logical_and()\n",
    "logical_and_result = np.logical_and(array1, array2)\n",
    "\n",
    "# Element-wise logical OR using np.logical_or()\n",
    "logical_or_result = np.logical_or(array1, array2)\n",
    "\n",
    "print(\"Array 1:\", array1)\n",
    "print(\"Array 2:\", array2)\n",
    "print(\"Logical AND result:\", logical_and_result)\n",
    "print(\"Logical OR result:\", logical_or_result)"
   ]
  },
  {
   "cell_type": "code",
   "execution_count": 4,
   "metadata": {},
   "outputs": [
    {
     "name": "stdout",
     "output_type": "stream",
     "text": [
      "Original array: [ True False  True False]\n",
      "Logical NOT result: [False  True False  True]\n"
     ]
    }
   ],
   "source": [
    "# Creating an example array\n",
    "my_array = np.array([True, False, True, False])\n",
    "\n",
    "# Element-wise logical NOT using np.logical_not()\n",
    "logical_not_result = np.logical_not(my_array)\n",
    "\n",
    "print(\"Original array:\", my_array)\n",
    "print(\"Logical NOT result:\", logical_not_result)"
   ]
  },
  {
   "cell_type": "code",
   "execution_count": 5,
   "metadata": {},
   "outputs": [
    {
     "name": "stdout",
     "output_type": "stream",
     "text": [
      "Array 1: [1 2 3]\n",
      "Array 2: [1 2 3]\n",
      "Array 3: [1 2 4]\n",
      "Arrays 1 and 2 are equal: True\n",
      "Arrays 1 and 3 are equal: False\n"
     ]
    }
   ],
   "source": [
    "# Creating example arrays\n",
    "array1 = np.array([1, 2, 3])\n",
    "array2 = np.array([1, 2, 3])\n",
    "array3 = np.array([1, 2, 4])\n",
    "\n",
    "# Checking if arrays are equal using np.array_equal()\n",
    "equal1 = np.array_equal(array1, array2)\n",
    "equal2 = np.array_equal(array1, array3)\n",
    "\n",
    "print(\"Array 1:\", array1)\n",
    "print(\"Array 2:\", array2)\n",
    "print(\"Array 3:\", array3)\n",
    "print(\"Arrays 1 and 2 are equal:\", equal1)\n",
    "print(\"Arrays 1 and 3 are equal:\", equal2)"
   ]
  }
 ],
 "metadata": {
  "kernelspec": {
   "display_name": "base",
   "language": "python",
   "name": "python3"
  },
  "language_info": {
   "codemirror_mode": {
    "name": "ipython",
    "version": 3
   },
   "file_extension": ".py",
   "mimetype": "text/x-python",
   "name": "python",
   "nbconvert_exporter": "python",
   "pygments_lexer": "ipython3",
   "version": "3.9.16"
  },
  "orig_nbformat": 4
 },
 "nbformat": 4,
 "nbformat_minor": 2
}
