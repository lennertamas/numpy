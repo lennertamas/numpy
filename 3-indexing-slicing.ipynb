{
 "cells": [
  {
   "cell_type": "markdown",
   "metadata": {},
   "source": [
    "### Array Slicing and Indexing:\n",
    "- Slice and reshape arrays to create new views.\n",
    "- Use boolean indexing to filter elements based on conditions.\n"
   ]
  },
  {
   "cell_type": "code",
   "execution_count": 4,
   "metadata": {},
   "outputs": [],
   "source": [
    "import numpy as np"
   ]
  },
  {
   "cell_type": "code",
   "execution_count": 6,
   "metadata": {},
   "outputs": [
    {
     "name": "stdout",
     "output_type": "stream",
     "text": [
      "3\n"
     ]
    }
   ],
   "source": [
    "# Create a 1D array\n",
    "array_1d = np.array([0, 1, 2, 3, 4, 5])\n",
    "print(array_1d[3])"
   ]
  },
  {
   "cell_type": "code",
   "execution_count": 7,
   "metadata": {},
   "outputs": [
    {
     "name": "stdout",
     "output_type": "stream",
     "text": [
      "Array: [0 1 2 3 4 5]\n",
      "Element at index 2: 2\n",
      "Element at index 4: 4\n",
      "Array: [0 1 2 3 4 5 6 7 8 9]\n",
      "Sliced array: [2 3 4 5]\n",
      "Every second element: [0 2 4 6 8]\n",
      "Reversed array: [9 8 7 6 5 4 3 2 1 0]\n"
     ]
    }
   ],
   "source": [
    "# Create a 1D array\n",
    "array_1d = np.array([0, 1, 2, 3, 4, 5])\n",
    "\n",
    "# Access individual elements using indexing\n",
    "element_at_index_2 = array_1d[2]  # Access the element at index 2 (value: 2)\n",
    "element_at_index_4 = array_1d[4]  # Access the element at index 4 (value: 4)\n",
    "\n",
    "print(\"Array:\", array_1d)\n",
    "print(\"Element at index 2:\", element_at_index_2)\n",
    "print(\"Element at index 4:\", element_at_index_4)\n",
    "\n",
    "array_1d = np.array([0, 1, 2, 3, 4, 5, 6, 7, 8, 9])\n",
    "\n",
    "# Slicing examples\n",
    "sliced_array = array_1d[2:6]# Elements from index 2 to 5 (inclusive)\n",
    "every_second_element = array_1d[::2]  # Every second element\n",
    "reverse_array = array_1d[::-1]      # Reverse the array\n",
    "\n",
    "print(\"Array:\", array_1d)\n",
    "print(\"Sliced array:\", sliced_array)\n",
    "print(\"Every second element:\", every_second_element)\n",
    "print(\"Reversed array:\", reverse_array)"
   ]
  },
  {
   "cell_type": "code",
   "execution_count": 8,
   "metadata": {},
   "outputs": [
    {
     "name": "stdout",
     "output_type": "stream",
     "text": [
      "Matrix:\n",
      "[[1 2 3]\n",
      " [4 5 6]\n",
      " [7 8 9]]\n",
      "Element at (1, 1): 5\n",
      "Row 2: [4 5 6]\n",
      "Column 3: [3 6 9]\n"
     ]
    }
   ],
   "source": [
    "# Create a 2D array (matrix)\n",
    "matrix = np.array([[1, 2, 3],\n",
    "                   [4, 5, 6],\n",
    "                   [7, 8, 9]])\n",
    "\n",
    "# Indexing and slicing for 2D arrays\n",
    "element_at_1_1 = matrix[1, 1]    # Access the element at row 1, column 1 (value: 5)\n",
    "row_2 = matrix[1, :]             # Access the second row\n",
    "column_3 = matrix[:, 2]          # Access the third column\n",
    "\n",
    "print(\"Matrix:\")\n",
    "print(matrix)\n",
    "print(\"Element at (1, 1):\", element_at_1_1)\n",
    "print(\"Row 2:\", row_2)\n",
    "print(\"Column 3:\", column_3)"
   ]
  },
  {
   "cell_type": "code",
   "execution_count": 9,
   "metadata": {},
   "outputs": [
    {
     "name": "stdout",
     "output_type": "stream",
     "text": [
      "Original array: [ 1  2  3  4  5  6  7  8  9 10]\n",
      "Boolean condition: [False False False False False  True  True  True  True  True]\n",
      "Filtered elements: [ 6  7  8  9 10]\n",
      "Original array: [ 1  2  3  4  5  6  7  8  9 10]\n",
      "Boolean condition: [False False False  True  True  True  True False False False]\n",
      "Filtered elements: [4 5 6 7]\n"
     ]
    }
   ],
   "source": [
    "#Use boolean indexing to filter elements based on conditions.\n",
    "\n",
    "# Create a 1D array\n",
    "array_1d = np.array([1, 2, 3, 4, 5, 6, 7, 8, 9, 10])\n",
    "\n",
    "# Create a boolean array based on a condition\n",
    "condition = array_1d > 5\n",
    "\n",
    "# Use boolean indexing to filter elements based on the condition\n",
    "filtered_elements = array_1d[condition]\n",
    "\n",
    "print(\"Original array:\", array_1d)\n",
    "print(\"Boolean condition:\", condition)\n",
    "print(\"Filtered elements:\", filtered_elements)\n",
    "\n",
    "# Create a boolean array based on multiple conditions\n",
    "condition = (array_1d > 3) & (array_1d < 8)\n",
    "\n",
    "# Use boolean indexing to filter elements based on the combined condition\n",
    "filtered_elements = array_1d[condition]\n",
    "\n",
    "print(\"Original array:\", array_1d)\n",
    "print(\"Boolean condition:\", condition)\n",
    "print(\"Filtered elements:\", filtered_elements)"
   ]
  }
 ],
 "metadata": {
  "kernelspec": {
   "display_name": "base",
   "language": "python",
   "name": "python3"
  },
  "language_info": {
   "codemirror_mode": {
    "name": "ipython",
    "version": 3
   },
   "file_extension": ".py",
   "mimetype": "text/x-python",
   "name": "python",
   "nbconvert_exporter": "python",
   "pygments_lexer": "ipython3",
   "version": "3.9.16"
  },
  "orig_nbformat": 4
 },
 "nbformat": 4,
 "nbformat_minor": 2
}
