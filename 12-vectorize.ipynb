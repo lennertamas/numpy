{
 "cells": [
  {
   "cell_type": "markdown",
   "metadata": {},
   "source": []
  },
  {
   "cell_type": "code",
   "execution_count": 1,
   "metadata": {},
   "outputs": [],
   "source": [
    "import numpy as np"
   ]
  },
  {
   "cell_type": "code",
   "execution_count": 2,
   "metadata": {},
   "outputs": [
    {
     "name": "stdout",
     "output_type": "stream",
     "text": [
      "Original array: [1 2 3 4 5]\n",
      "Result array: [11 14 19 26 35]\n"
     ]
    }
   ],
   "source": [
    "# Define a custom function to be applied element-wise\n",
    "def custom_function(x):\n",
    "    return x**2 + 10\n",
    "\n",
    "# Create an array\n",
    "original_array = np.array([1, 2, 3, 4, 5])\n",
    "\n",
    "# Use np.vectorize() to create a vectorized version of the custom function\n",
    "vectorized_function = np.vectorize(custom_function)\n",
    "\n",
    "# Apply the vectorized function to the array\n",
    "result_array = vectorized_function(original_array)\n",
    "\n",
    "print(\"Original array:\", original_array)\n",
    "print(\"Result array:\", result_array)"
   ]
  }
 ],
 "metadata": {
  "kernelspec": {
   "display_name": "base",
   "language": "python",
   "name": "python3"
  },
  "language_info": {
   "codemirror_mode": {
    "name": "ipython",
    "version": 3
   },
   "file_extension": ".py",
   "mimetype": "text/x-python",
   "name": "python",
   "nbconvert_exporter": "python",
   "pygments_lexer": "ipython3",
   "version": "3.9.16"
  },
  "orig_nbformat": 4
 },
 "nbformat": 4,
 "nbformat_minor": 2
}
