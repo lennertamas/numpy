{
 "cells": [
  {
   "cell_type": "markdown",
   "metadata": {},
   "source": [
    "### Array Initialization:\n",
    "- Create an array of zeros with a specified shape.\n",
    "- Create an array of ones with a specified shape.\n",
    "- Create an identity matrix using np.eye().\n"
   ]
  },
  {
   "cell_type": "code",
   "execution_count": 2,
   "metadata": {},
   "outputs": [],
   "source": [
    "import numpy as np"
   ]
  },
  {
   "cell_type": "code",
   "execution_count": 4,
   "metadata": {},
   "outputs": [
    {
     "name": "stdout",
     "output_type": "stream",
     "text": [
      "[[0. 0. 0. 0.]\n",
      " [0. 0. 0. 0.]\n",
      " [0. 0. 0. 0.]]\n",
      "[[1. 1. 1. 1.]\n",
      " [1. 1. 1. 1.]\n",
      " [1. 1. 1. 1.]]\n",
      "[[1. 0. 0.]\n",
      " [0. 1. 0.]\n",
      " [0. 0. 1.]]\n",
      "[[ 1. inf inf]\n",
      " [inf  5. inf]\n",
      " [inf inf  9.]]\n"
     ]
    },
    {
     "name": "stderr",
     "output_type": "stream",
     "text": [
      "/var/folders/hs/z4bycjqn4k95m4dwvckm33mc0000gn/T/ipykernel_35534/574844296.py:15: RuntimeWarning: divide by zero encountered in true_divide\n",
      "  result = np.divide(arr, identity_matrix)\n"
     ]
    }
   ],
   "source": [
    "#Create an array of zeros with a specified shape.\n",
    "zeros_array = np.zeros((3, 4))\n",
    "\n",
    "print(zeros_array)\n",
    "\n",
    "#Create an array of ones with a specified shape.\n",
    "ones_array = np.ones((3,4))\n",
    "print(ones_array)\n",
    "\n",
    "#Create an identity matrix using np.eye().\n",
    "identity_matrix = np.eye(3)\n",
    "print(identity_matrix)"
   ]
  },
  {
   "cell_type": "markdown",
   "metadata": {},
   "source": []
  }
 ],
 "metadata": {
  "kernelspec": {
   "display_name": "base",
   "language": "python",
   "name": "python3"
  },
  "language_info": {
   "codemirror_mode": {
    "name": "ipython",
    "version": 3
   },
   "file_extension": ".py",
   "mimetype": "text/x-python",
   "name": "python",
   "nbconvert_exporter": "python",
   "pygments_lexer": "ipython3",
   "version": "3.9.16"
  },
  "orig_nbformat": 4
 },
 "nbformat": 4,
 "nbformat_minor": 2
}
