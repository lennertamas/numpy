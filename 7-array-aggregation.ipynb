{
 "cells": [
  {
   "cell_type": "markdown",
   "metadata": {},
   "source": [
    "### Array Aggregation:\n",
    "- Sum the elements of an array using np.sum().\n",
    "- Find the maximum and minimum values using `np.max()` and `np.min()`"
   ]
  },
  {
   "cell_type": "code",
   "execution_count": 2,
   "metadata": {},
   "outputs": [],
   "source": [
    "import numpy as np"
   ]
  },
  {
   "cell_type": "code",
   "execution_count": 3,
   "metadata": {},
   "outputs": [
    {
     "name": "stdout",
     "output_type": "stream",
     "text": [
      "2D Array:\n",
      " [[1 2 3]\n",
      " [4 5 6]]\n",
      "Total sum: 21\n",
      "Sum along rows: [ 6 15]\n",
      "Sum along columns: [5 7 9]\n"
     ]
    }
   ],
   "source": [
    "# Creating a 2D array\n",
    "my_2d_array = np.array([[1, 2, 3],\n",
    "                        [4, 5, 6]])\n",
    "\n",
    "# Aggregating the sum of array elements along different axes using np.sum()\n",
    "total_sum = np.sum(my_2d_array)  # Sum of all elements\n",
    "row_sums = np.sum(my_2d_array, axis=1)  # Sum along rows\n",
    "column_sums = np.sum(my_2d_array, axis=0)  # Sum along columns\n",
    "\n",
    "print(\"2D Array:\\n\", my_2d_array)\n",
    "print(\"Total sum:\", total_sum)\n",
    "print(\"Sum along rows:\", row_sums)\n",
    "print(\"Sum along columns:\", column_sums)"
   ]
  },
  {
   "cell_type": "markdown",
   "metadata": {},
   "source": [
    "In this example, the np.sum() function is used to perform array aggregation:\n",
    "\n",
    "total_sum: Calculates the sum of all elements in the 2D array.\n",
    "row_sums: Calculates the sum of elements along each row (axis 1).\n",
    "column_sums: Calculates the sum of elements along each column (axis 0).\n",
    "You can adjust the axis parameter to aggregate along different dimensions as needed.\n",
    "\n",
    "Remember that aggregation functions like `np.sum()` can be applied to arrays with any number of dimensions, not just 2D arrays. The axis parameter allows you to control which axes to aggregate along, making it versatile for handling multi-dimensional arrays."
   ]
  },
  {
   "cell_type": "code",
   "execution_count": 4,
   "metadata": {},
   "outputs": [
    {
     "name": "stdout",
     "output_type": "stream",
     "text": [
      "Array: [5 2 8 1 9 3]\n",
      "Maximum value: 9\n",
      "Minimum value: 1\n",
      "2D Array:\n",
      " [[5 2 8]\n",
      " [1 9 3]]\n",
      "Maximum values along rows: [8 9]\n",
      "Minimum values along columns: [1 2 3]\n"
     ]
    }
   ],
   "source": [
    "#Find the maximum and minimum values using np.max() and np.min().\n",
    "\n",
    "# Creating an example array\n",
    "my_array = np.array([5, 2, 8, 1, 9, 3])\n",
    "\n",
    "# Finding the maximum and minimum values using np.max() and np.min()\n",
    "max_value = np.max(my_array)\n",
    "min_value = np.min(my_array)\n",
    "\n",
    "print(\"Array:\", my_array)\n",
    "print(\"Maximum value:\", max_value)\n",
    "print(\"Minimum value:\", min_value)\n",
    "\n",
    "# Creating a 2D array\n",
    "my_2d_array = np.array([[5, 2, 8],\n",
    "                        [1, 9, 3]])\n",
    "\n",
    "max_values_row = np.max(my_2d_array, axis=1)  # Max along rows\n",
    "min_values_column = np.min(my_2d_array, axis=0)  # Min along columns\n",
    "\n",
    "print(\"2D Array:\\n\", my_2d_array)\n",
    "print(\"Maximum values along rows:\", max_values_row)\n",
    "print(\"Minimum values along columns:\", min_values_column)"
   ]
  }
 ],
 "metadata": {
  "kernelspec": {
   "display_name": "base",
   "language": "python",
   "name": "python3"
  },
  "language_info": {
   "codemirror_mode": {
    "name": "ipython",
    "version": 3
   },
   "file_extension": ".py",
   "mimetype": "text/x-python",
   "name": "python",
   "nbconvert_exporter": "python",
   "pygments_lexer": "ipython3",
   "version": "3.9.16"
  },
  "orig_nbformat": 4
 },
 "nbformat": 4,
 "nbformat_minor": 2
}
