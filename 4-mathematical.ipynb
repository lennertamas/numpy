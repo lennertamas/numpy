{
 "cells": [
  {
   "cell_type": "markdown",
   "metadata": {},
   "source": [
    "### Mathematical Functions\n",
    "- Apply mathematical functions to arrays.\n",
    "- Calculate the mean, median, and standard deviation of an array.\n"
   ]
  },
  {
   "cell_type": "code",
   "execution_count": 2,
   "metadata": {},
   "outputs": [],
   "source": [
    "import numpy as np"
   ]
  },
  {
   "cell_type": "code",
   "execution_count": 5,
   "metadata": {},
   "outputs": [
    {
     "name": "stdout",
     "output_type": "stream",
     "text": [
      "[ 4 18 48]\n"
     ]
    }
   ],
   "source": [
    "numbers = np.array([4, 9, 16])\n",
    "numbers2 = np.array([2, 2, 2])\n",
    "\n",
    "arr2 = numbers * numbers2\n",
    "\n",
    "print(arr2)"
   ]
  },
  {
   "cell_type": "code",
   "execution_count": 6,
   "metadata": {},
   "outputs": [
    {
     "name": "stdout",
     "output_type": "stream",
     "text": [
      "[2. 3. 4.]\n",
      "[1.38629436 2.19722458 2.77258872]\n",
      "[ 4  9 16]\n",
      "[  64  729 4096]\n"
     ]
    }
   ],
   "source": [
    "numbers = np.array([4, 9, 16])\n",
    "# Calculate the square root of each number\n",
    "sqrt_values = np.sqrt(numbers)\n",
    "\n",
    "print(sqrt_values)  # Output: [2. 3. 4.]\n",
    "\n",
    "# Calculate the natural logarithm of each number\n",
    "log_values = np.log(numbers)\n",
    "\n",
    "print(log_values)  # Output: [0.         0.69314718 2.30258509]\n",
    "\n",
    "abs_values = np.abs(numbers)\n",
    "\n",
    "print(abs_values)  # Output: [4 9 16]\n",
    "\n",
    "# Raise each number to the power of 3\n",
    "power_values = np.power(numbers, 3)\n",
    "\n",
    "print(power_values)"
   ]
  },
  {
   "cell_type": "code",
   "execution_count": 7,
   "metadata": {},
   "outputs": [
    {
     "name": "stdout",
     "output_type": "stream",
     "text": [
      "30.0\n",
      "14.142135623730951\n",
      "30.0\n"
     ]
    }
   ],
   "source": [
    "#Calculate the mean, median, and standard deviation of an array.\n",
    "\n",
    "# Create an array of numbers\n",
    "numbers = np.array([10, 20, 30, 40, 50])\n",
    "\n",
    "# Calculate the mean\n",
    "mean_value = np.mean(numbers)\n",
    "\n",
    "print(mean_value)  # Output: 30.0\n",
    "\n",
    "# Calculate the median\n",
    "median_value = np.median(numbers)\n",
    "\n",
    "\n",
    "# Calculate the standard deviation\n",
    "std_deviation = np.std(numbers)\n",
    "\n",
    "print(std_deviation)  # Output: 15.81...\n",
    "\n",
    "\n",
    "print(median_value)  # Output: 30.0"
   ]
  }
 ],
 "metadata": {
  "kernelspec": {
   "display_name": "base",
   "language": "python",
   "name": "python3"
  },
  "language_info": {
   "codemirror_mode": {
    "name": "ipython",
    "version": 3
   },
   "file_extension": ".py",
   "mimetype": "text/x-python",
   "name": "python",
   "nbconvert_exporter": "python",
   "pygments_lexer": "ipython3",
   "version": "3.9.16"
  },
  "orig_nbformat": 4
 },
 "nbformat": 4,
 "nbformat_minor": 2
}
