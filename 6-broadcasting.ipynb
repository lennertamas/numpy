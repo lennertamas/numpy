{
 "cells": [
  {
   "cell_type": "markdown",
   "metadata": {},
   "source": [
    "### Broadcasting\n",
    "- Perform operations on arrays with different shapes using broadcasting.\n",
    "- Understand how broadcasting works and why it's useful.\n"
   ]
  },
  {
   "cell_type": "code",
   "execution_count": 2,
   "metadata": {},
   "outputs": [],
   "source": [
    "import numpy as np"
   ]
  },
  {
   "cell_type": "code",
   "execution_count": 3,
   "metadata": {},
   "outputs": [
    {
     "name": "stdout",
     "output_type": "stream",
     "text": [
      "Original array:\n",
      " [[1 2 3]\n",
      " [4 5 6]]\n",
      "\n",
      "Result of scalar multiplication:\n",
      " [[ 2  4  6]\n",
      " [ 8 10 12]]\n"
     ]
    }
   ],
   "source": [
    "# Creating arrays\n",
    "array1 = np.array([[1, 2, 3],\n",
    "                   [4, 5, 6]])\n",
    "\n",
    "scalar = 2\n",
    "\n",
    "# Performing a scalar multiplication using broadcasting\n",
    "result = array1 * scalar\n",
    "\n",
    "print(\"Original array:\\n\", array1)\n",
    "print(\"\\nResult of scalar multiplication:\\n\", result)"
   ]
  },
  {
   "cell_type": "markdown",
   "metadata": {},
   "source": [
    "In this example, we're performing a scalar multiplication (array1 * scalar). Even though the shapes of array1 and the scalar (2) are different, NumPy automatically broadcasts the scalar to match the shape of array1, and then performs the multiplication element-wise.\n",
    "\n"
   ]
  },
  {
   "cell_type": "code",
   "execution_count": 4,
   "metadata": {},
   "outputs": [
    {
     "name": "stdout",
     "output_type": "stream",
     "text": [
      "Array 1:\n",
      " [[1 2 3]\n",
      " [4 5 6]]\n",
      "Array 2:\n",
      " [10 20 30]\n",
      "\n",
      "Result of addition with broadcasting:\n",
      " [[11 22 33]\n",
      " [14 25 36]]\n"
     ]
    }
   ],
   "source": [
    "array2 = np.array([10, 20, 30])\n",
    "\n",
    "result = array1 + array2\n",
    "\n",
    "print(\"Array 1:\\n\", array1)\n",
    "print(\"Array 2:\\n\", array2)\n",
    "print(\"\\nResult of addition with broadcasting:\\n\", result)"
   ]
  },
  {
   "cell_type": "markdown",
   "metadata": {},
   "source": [
    "In this case, the array2 with shape (3,) is broadcasted to match the shape of array1 (2, 3), and element-wise addition is performed."
   ]
  },
  {
   "cell_type": "markdown",
   "metadata": {},
   "source": [
    "Broadcasting in NumPy is a mechanism that allows arrays with different shapes to be used together in operations without explicitly reshaping them. This makes element-wise operations possible between arrays of different shapes, as long as they meet certain compatibility conditions. Broadcasting can significantly simplify and optimize code when working with arrays, as it eliminates the need for explicit looping or reshaping.\n",
    "\n",
    "Here's how broadcasting works and why it's useful:\n",
    "\n",
    "**Broadcasting Rules:**\n",
    "\n",
    "1. **If arrays have different numbers of dimensions**, NumPy will add singleton dimensions (dimensions with size 1) to the smaller-dimensional array until they match in number of dimensions.\n",
    "\n",
    "2. **If sizes along a particular dimension don't match**:\n",
    "   - If one of the sizes is 1, the array with size 1 will be \"stretched\" along that dimension to match the other array's size.\n",
    "   - If neither size is 1, broadcasting is not possible, and a ValueError will be raised.\n",
    "\n",
    "**Example:**\n",
    "\n",
    "Let's consider an example:\n",
    "\n",
    "```python\n",
    "import numpy as np\n",
    "\n",
    "array1 = np.array([[1, 2, 3],\n",
    "                   [4, 5, 6]])\n",
    "\n",
    "scalar = 2\n",
    "\n",
    "result = array1 * scalar\n",
    "```\n",
    "\n",
    "In this example, even though the shape of `array1` is `(2, 3)` and the shape of the scalar is `()`, broadcasting occurs. The scalar is virtually expanded to match the shape of `array1`, resulting in element-wise multiplication.\n",
    "\n",
    "**Benefits of Broadcasting:**\n",
    "\n",
    "1. **Simplicity:** Broadcasting allows you to write more concise and readable code by avoiding the need for explicit loops or reshaping.\n",
    "\n",
    "2. **Performance:** Broadcasting operations are highly optimized in NumPy, leading to efficient memory usage and faster computations compared to manual looping.\n",
    "\n",
    "3. **Memory Efficiency:** Broadcasting does not create additional copies of the data; it operates directly on the existing arrays, which reduces memory usage.\n",
    "\n",
    "4. **Flexibility:** Broadcasting makes it easier to work with arrays of different shapes without needing to manually reshape them to match.\n",
    "\n",
    "5. **Generalization:** Broadcasting extends beyond scalar operations. It can be used with arrays of different shapes, as long as the dimensions are compatible.\n",
    "\n",
    "**Use Cases:**\n",
    "\n",
    "Broadcasting is useful in various scenarios, including:\n",
    "- Element-wise arithmetic operations between arrays and scalars.\n",
    "- Combining different arrays with matching dimensions.\n",
    "- Avoiding unnecessary copying or reshaping of arrays.\n",
    "- Vectorizing computations for improved performance.\n",
    "\n",
    "Overall, broadcasting is a powerful feature in NumPy that enables you to work with arrays of different shapes efficiently and intuitively, contributing to both code simplicity and performance optimization."
   ]
  },
  {
   "cell_type": "code",
   "execution_count": 5,
   "metadata": {},
   "outputs": [
    {
     "data": {
      "image/png": "[encoded data removed]",
      "text/plain": [
       "<Figure size 640x480 with 2 Axes>"
      ]
     },
     "metadata": {},
     "output_type": "display_data"
    }
   ],
   "source": [
    "import numpy as np\n",
    "import matplotlib.pyplot as plt\n",
    "\n",
    "# Create a grid of x and y values\n",
    "x = np.linspace(-5, 5, 100)\n",
    "y = np.linspace(-5, 5, 100)\n",
    "X, Y = np.meshgrid(x, y)\n",
    "\n",
    "# Compute the values of a 2D Gaussian function\n",
    "Z = np.exp(-(X**2 + Y**2) / 2)\n",
    "\n",
    "# Display the Gaussian function using imshow\n",
    "plt.imshow(Z, cmap='viridis')\n",
    "plt.title(\"2D Gaussian Function\")\n",
    "plt.colorbar()\n",
    "plt.show()"
   ]
  },
  {
   "cell_type": "markdown",
   "metadata": {},
   "source": [
    "In this example, broadcasting is used to calculate the values of a 2D Gaussian function on a grid of points."
   ]
  }
 ],
 "metadata": {
  "kernelspec": {
   "display_name": "base",
   "language": "python",
   "name": "python3"
  },
  "language_info": {
   "codemirror_mode": {
    "name": "ipython",
    "version": 3
   },
   "file_extension": ".py",
   "mimetype": "text/x-python",
   "name": "python",
   "nbconvert_exporter": "python",
   "pygments_lexer": "ipython3",
   "version": "3.9.16"
  },
  "orig_nbformat": 4
 },
 "nbformat": 4,
 "nbformat_minor": 2
}
