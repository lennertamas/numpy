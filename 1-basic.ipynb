{
 "cells": [
  {
   "cell_type": "markdown",
   "metadata": {},
   "source": [
    "### Basic Array Operations:\n",
    "\n",
    "- Create a 1D array containing integers from 0 to 9.\n",
    "- Create a 2D array (matrix) with dimensions 3x3.\n",
    "- Access specific elements of the arrays using indexing.\n",
    "- Perform element-wise arithmetic operations (+, -, *, /) on arrays."
   ]
  },
  {
   "cell_type": "code",
   "execution_count": 2,
   "metadata": {},
   "outputs": [],
   "source": [
    "import numpy as np"
   ]
  },
  {
   "cell_type": "code",
   "execution_count": 3,
   "metadata": {},
   "outputs": [
    {
     "name": "stdout",
     "output_type": "stream",
     "text": [
      "[0 1 2 3 4 5 6 7 8 9]\n",
      "[0 1 2 3 4 5 6 7 8 9]\n",
      "[[1 2 3]\n",
      " [4 5 6]\n",
      " [7 8 9]]\n",
      "2\n"
     ]
    }
   ],
   "source": [
    "# Create a 1D array containing integers from 0 to 9.\n",
    "array_1d = np.array([0, 1, 2, 3, 4, 5, 6, 7, 8, 9])\n",
    "print(array_1d)\n",
    "\n",
    "array_2d = np.arange(10)\n",
    "print(array_2d)\n",
    "\n",
    "#Create a 2D array (matrix) with dimensions 3x3.\n",
    "matrix_2d = np.array([[1, 2, 3],\n",
    "                      [4, 5, 6],\n",
    "                      [7, 8, 9]])\n",
    "print(matrix_2d)\n",
    "\n",
    "print(matrix_2d.ndim)"
   ]
  },
  {
   "cell_type": "code",
   "execution_count": null,
   "metadata": {},
   "outputs": [],
   "source": [
    "\n",
    "\n",
    "#Access specific elements of the arrays using indexing.\n",
    "array1 = np.array([[1, 2, 3],\n",
    "                   [4, 5, 6]])\n",
    "\n",
    "print (array1[0,1:3])\n"
   ]
  },
  {
   "cell_type": "code",
   "execution_count": null,
   "metadata": {},
   "outputs": [],
   "source": [
    "#Perform element-wise arithmetic operations (+, -, *, /) on arrays.\n",
    "\n",
    "# Create two 2D arrays for demonstration\n",
    "array1 = np.array([[1, 2, 3],\n",
    "                   [4, 5, 6]])\n",
    "\n",
    "array2 = np.array([[10, 20, 30],\n",
    "                   [40, 50, 60]])\n",
    "\n",
    "# Element-wise addition\n",
    "addition_result = array1 + array2\n",
    "\n",
    "# Element-wise subtraction\n",
    "subtraction_result = array1 - array2\n",
    "\n",
    "# Element-wise multiplication\n",
    "multiplication_result = array1 * array2\n",
    "\n",
    "# Element-wise division\n",
    "division_result = array1 / array2\n",
    "\n",
    "print(\"Array 1:\")\n",
    "print(array1)\n",
    "\n",
    "print(\"Array 2:\")\n",
    "print(array2)\n",
    "\n",
    "print(\"Addition Result:\")\n",
    "print(addition_result)\n",
    "\n",
    "print(\"Subtraction Result:\")\n",
    "print(subtraction_result)\n",
    "\n",
    "print(\"Multiplication Result:\")\n",
    "print(multiplication_result)\n",
    "\n",
    "print(\"Division Result:\")\n",
    "print(division_result)"
   ]
  },
  {
   "cell_type": "code",
   "execution_count": null,
   "metadata": {},
   "outputs": [],
   "source": []
  }
 ],
 "metadata": {
  "kernelspec": {
   "display_name": "base",
   "language": "python",
   "name": "python3"
  },
  "language_info": {
   "codemirror_mode": {
    "name": "ipython",
    "version": 3
   },
   "file_extension": ".py",
   "mimetype": "text/x-python",
   "name": "python",
   "nbconvert_exporter": "python",
   "pygments_lexer": "ipython3",
   "version": "3.9.16"
  },
  "orig_nbformat": 4
 },
 "nbformat": 4,
 "nbformat_minor": 2
}
