{
 "cells": [
  {
   "cell_type": "markdown",
   "metadata": {},
   "source": [
    "### Array Manipulation:\n",
    "- Transpose a matrix using np.transpose() or .T.\n",
    "- Concatenate arrays vertically and horizontally using np.concatenate().\n",
    "- Stack arrays vertically and horizontally using np.vstack() and np.hstack().\n"
   ]
  },
  {
   "cell_type": "code",
   "execution_count": 1,
   "metadata": {},
   "outputs": [],
   "source": [
    "import numpy as np"
   ]
  },
  {
   "cell_type": "code",
   "execution_count": 4,
   "metadata": {},
   "outputs": [
    {
     "name": "stdout",
     "output_type": "stream",
     "text": [
      "Original Matrix:\n",
      " [[1 2 3]\n",
      " [4 5 6]]\n",
      "Transposed Matrix:\n",
      " [[1 4]\n",
      " [2 5]\n",
      " [3 6]]\n",
      "Transposed Matrix with T attriute:\n",
      " [[1 4]\n",
      " [2 5]\n",
      " [3 6]]\n"
     ]
    }
   ],
   "source": [
    "# Create a matrix\n",
    "matrix = np.array([[1, 2, 3],\n",
    "                   [4, 5, 6]])\n",
    "\n",
    "# Transpose the matrix using np.transpose()\n",
    "transposed_matrix = np.transpose(matrix)\n",
    "\n",
    "print(\"Original Matrix:\\n\", matrix)\n",
    "print(\"Transposed Matrix:\\n\", transposed_matrix)\n",
    "\n",
    "# Transpose the matrix using the .T attribute\n",
    "transposed_matrix = matrix.T\n",
    "\n",
    "print(\"Transposed Matrix with T attriute:\\n\", transposed_matrix)"
   ]
  },
  {
   "cell_type": "code",
   "execution_count": 9,
   "metadata": {},
   "outputs": [
    {
     "name": "stdout",
     "output_type": "stream",
     "text": [
      "Array 1:\n",
      " [[1 2 3]\n",
      " [4 5 6]]\n",
      "Array 2:\n",
      " [[ 7  8  9]\n",
      " [10 11 12]]\n",
      "Vertically Concatenated:\n",
      " [[ 1  2  3]\n",
      " [ 4  5  6]\n",
      " [ 7  8  9]\n",
      " [10 11 12]]\n",
      "Horizontally Concatenated:\n",
      " [[ 1  2  3  7  8  9]\n",
      " [ 4  5  6 10 11 12]]\n"
     ]
    }
   ],
   "source": [
    "# Create two arrays\n",
    "array1 = np.array([[1, 2, 3],\n",
    "                   [4, 5, 6]])\n",
    "\n",
    "array2 = np.array([[7, 8, 9],\n",
    "                   [10, 11, 12]])\n",
    "\n",
    "# Concatenate arrays vertically using np.concatenate()\n",
    "vertical_concatenated = np.concatenate((array1, array2), axis=0)\n",
    "\n",
    "print(\"Array 1:\\n\", array1)\n",
    "print(\"Array 2:\\n\", array2)\n",
    "print(\"Vertically Concatenated:\\n\", vertical_concatenated)\n",
    "\n",
    "# Concatenate arrays horizontally using np.concatenate()\n",
    "horizontal_concatenated = np.concatenate((array1, array2), axis=1)\n",
    "\n",
    "print(\"Horizontally Concatenated:\\n\", horizontal_concatenated)"
   ]
  },
  {
   "cell_type": "code",
   "execution_count": 11,
   "metadata": {},
   "outputs": [
    {
     "name": "stdout",
     "output_type": "stream",
     "text": [
      "[[[ 1  2  3]\n",
      "  [ 7  8  9]]\n",
      "\n",
      " [[ 4  5  6]\n",
      "  [10 11 12]]]\n",
      "Stacked vertically:\n",
      "[[ 1  2  3]\n",
      " [ 4  5  6]\n",
      " [ 7  8  9]\n",
      " [10 11 12]]\n",
      "\n",
      "Stacked horizontally:\n",
      "[[ 1  2  3  7  8  9]\n",
      " [ 4  5  6 10 11 12]]\n"
     ]
    }
   ],
   "source": [
    "\n",
    "# Stack arrays vertically and horizontally using np.vstack() and np.hstack().\n",
    "array1 = np.array([[1, 2, 3],\n",
    "                   [4, 5, 6]])\n",
    "\n",
    "array2 = np.array([[7, 8, 9],\n",
    "                   [10, 11, 12]])\n",
    "\n",
    "stack = np.stack((array1, array2), axis=1)\n",
    "\n",
    "# Stacking arrays using np.stack()\n",
    "print(stack)\n",
    "\n",
    "# Stacking arrays vertically using np.vstack()\n",
    "vertical_stack = np.vstack((array1, array2))\n",
    "\n",
    "print(\"Stacked vertically:\")\n",
    "print(vertical_stack)\n",
    "\n",
    "# Stacking arrays horizontally using np.hstack()\n",
    "horizontal_stack = np.hstack((array1, array2))\n",
    "\n",
    "print(\"\\nStacked horizontally:\")\n",
    "print(horizontal_stack)"
   ]
  }
 ],
 "metadata": {
  "kernelspec": {
   "display_name": "base",
   "language": "python",
   "name": "python3"
  },
  "language_info": {
   "codemirror_mode": {
    "name": "ipython",
    "version": 3
   },
   "file_extension": ".py",
   "mimetype": "text/x-python",
   "name": "python",
   "nbconvert_exporter": "python",
   "pygments_lexer": "ipython3",
   "version": "3.9.16"
  },
  "orig_nbformat": 4
 },
 "nbformat": 4,
 "nbformat_minor": 2
}
