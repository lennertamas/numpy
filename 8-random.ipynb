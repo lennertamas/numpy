{
 "cells": [
  {
   "cell_type": "markdown",
   "metadata": {},
   "source": [
    "NumPy's `np.random` module allows you to generate random numbers from various probability distributions. Here are some commonly used distributions and how to generate random numbers from them using `np.random`:\n",
    "\n",
    "1. **Uniform Distribution (`np.random.rand()` and `np.random.uniform()`):**\n",
    "   The uniform distribution generates random numbers between a specified range with equal probability.\n",
    "   \n",
    "   ```python\n",
    "   import numpy as np\n",
    "\n",
    "   # Generate random numbers from uniform distribution\n",
    "   uniform_random = np.random.rand(5)  # Generates 5 random numbers between 0 and 1\n",
    "   print(\"Uniform random numbers:\", uniform_random)\n",
    "   \n",
    "   # Generate random numbers within a specific range\n",
    "   custom_range_random = np.random.uniform(low=10, high=20, size=5)  # Generates 5 random numbers between 10 and 20\n",
    "   print(\"Custom range random numbers:\", custom_range_random)\n",
    "   ```\n",
    "\n",
    "2. **Normal (Gaussian) Distribution (`np.random.randn()` and `np.random.normal()`):**\n",
    "   The normal distribution generates random numbers following a Gaussian distribution with a given mean and standard deviation.\n",
    "   \n",
    "   ```python\n",
    "   # Generate random numbers from normal distribution\n",
    "   normal_random = np.random.randn(5)  # Generates 5 random numbers from standard normal distribution (mean=0, std=1)\n",
    "   print(\"Standard normal random numbers:\", normal_random)\n",
    "   \n",
    "   # Generate random numbers from a normal distribution with specific mean and standard deviation\n",
    "   custom_normal_random = np.random.normal(loc=5, scale=2, size=5)  # Generates 5 random numbers with mean=5 and std=2\n",
    "   print(\"Custom normal random numbers:\", custom_normal_random)\n",
    "   ```\n",
    "\n",
    "3. **Discrete Distributions (`np.random.choice()`):**\n",
    "   You can generate random numbers from discrete distributions, like a list of values, using the `np.random.choice()` function.\n",
    "   \n",
    "   ```python\n",
    "   # Generate random numbers from a list of values (discrete distribution)\n",
    "   discrete_random = np.random.choice([1, 2, 3, 4, 5], size=5)\n",
    "   print(\"Discrete random numbers:\", discrete_random)\n",
    "   ```\n",
    "\n",
    "4. **Others:**\n",
    "   NumPy's `np.random` module also provides functions for various other distributions such as Poisson, Binomial, and more.\n"
   ]
  },
  {
   "cell_type": "code",
   "execution_count": 1,
   "metadata": {},
   "outputs": [
    {
     "name": "stdout",
     "output_type": "stream",
     "text": [
      "Uniform random numbers: [0.56706297 0.11598366 0.01471886 0.9366056  0.4412694 ]\n",
      "Custom range random numbers: [12.63868456 10.05374119 15.84625592 12.51692002 18.90996664]\n"
     ]
    }
   ],
   "source": [
    "import numpy as np\n",
    "\n",
    "# Generate random numbers from uniform distribution\n",
    "uniform_random = np.random.rand(5)  # Generates 5 random numbers between 0 and 1\n",
    "print(\"Uniform random numbers:\", uniform_random)\n",
    "\n",
    "# Generate random numbers within a specific range\n",
    "custom_range_random = np.random.uniform(low=10, high=20, size=5)  # Generates 5 random numbers between 10 and 20\n",
    "print(\"Custom range random numbers:\", custom_range_random)"
   ]
  },
  {
   "cell_type": "code",
   "execution_count": 2,
   "metadata": {},
   "outputs": [
    {
     "name": "stdout",
     "output_type": "stream",
     "text": [
      "Standard normal random numbers: [ 0.67107791  2.36189062 -1.59303372 -1.34453586  1.64376023]\n",
      "Custom normal random numbers: [6.68117041 5.71066687 4.98426327 4.65129451 0.96577343]\n"
     ]
    }
   ],
   "source": [
    "# Generate random numbers from normal distribution\n",
    "normal_random = np.random.randn(5)  # Generates 5 random numbers from standard normal distribution (mean=0, std=1)\n",
    "print(\"Standard normal random numbers:\", normal_random)\n",
    "\n",
    "# Generate random numbers from a normal distribution with specific mean and standard deviation\n",
    "custom_normal_random = np.random.normal(loc=5, scale=2, size=5)  # Generates 5 random numbers with mean=5 and std=2\n",
    "print(\"Custom normal random numbers:\", custom_normal_random)"
   ]
  },
  {
   "cell_type": "code",
   "execution_count": 5,
   "metadata": {},
   "outputs": [
    {
     "name": "stdout",
     "output_type": "stream",
     "text": [
      "Discrete random numbers: [1 1 1 3 5]\n"
     ]
    }
   ],
   "source": [
    "# Generate random numbers from a list of values (discrete distribution)\n",
    "discrete_random = np.random.choice([1, 2, 3, 4, 5], size=5)\n",
    "print(\"Discrete random numbers:\", discrete_random)"
   ]
  }
 ],
 "metadata": {
  "kernelspec": {
   "display_name": "base",
   "language": "python",
   "name": "python3"
  },
  "language_info": {
   "codemirror_mode": {
    "name": "ipython",
    "version": 3
   },
   "file_extension": ".py",
   "mimetype": "text/x-python",
   "name": "python",
   "nbconvert_exporter": "python",
   "pygments_lexer": "ipython3",
   "version": "3.9.16"
  },
  "orig_nbformat": 4
 },
 "nbformat": 4,
 "nbformat_minor": 2
}
